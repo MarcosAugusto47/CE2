{
 "cells": [
  {
   "cell_type": "markdown",
   "metadata": {},
   "source": [
    "# Computação em Estatística 2 - Python\n",
    "## Lista de Exercícios 7 - Files and Exceptions\n",
    "### Aluno: Marcos Augusto Daza Barbosa\n",
    "### Matrícula: 170017834"
   ]
  },
  {
   "cell_type": "code",
   "execution_count": 2,
   "metadata": {},
   "outputs": [
    {
     "name": "stdout",
     "output_type": "stream",
     "text": [
      "Escreva o número de sua matricula 170017834\n",
      "Você deverá entregar os exercícios:  [176, 174]\n"
     ]
    }
   ],
   "source": [
    "import random\n",
    "\n",
    "def escolhe(matricula):\n",
    "    random.seed(matricula)\n",
    "    cap1 = (2,8,9,11,12,15,16,18,20,21,22,24,26,27,28,30,31,32)    \n",
    "    cap2 = (36,40,44,45,46,48,50,51,53,55,56,57,59,60)\n",
    "    cap3 = (63,64,65,68,71,72,74,76,78,80,81,84)\n",
    "    cap4 = (85,86,87,89,91,92,94,97,99,101,103,104,106)\n",
    "    cap5 = (111,115,117,118,119,122,123,124,126,127,131,132,133)\n",
    "    cap6 = (138,139,140,141,144,147,148)\n",
    "    cap7 = (152,153,154,155,157,160,161,164,165,166,168,171,172)\n",
    "    cap8 = (174,175,176,177,179,181,182,185)\n",
    "    return(random.sample(cap8, k=2))\n",
    "\n",
    "print(\"Você deverá entregar os exercícios: \", escolhe(input(\"Escreva o número de sua matricula\")))"
   ]
  },
  {
   "cell_type": "code",
   "execution_count": 4,
   "metadata": {},
   "outputs": [],
   "source": [
    "from IPython.display import Image"
   ]
  },
  {
   "cell_type": "markdown",
   "metadata": {},
   "source": [
    "## Exercícios Sorteados"
   ]
  },
  {
   "cell_type": "markdown",
   "metadata": {},
   "source": [
    "### Exercise 174: Greatest Common Divisor\n",
    "Euclid was a Greek mathematician who lived approximately 2,300 years ago. His algorithm for computing the greatest common divisor of two positive integers,aandb, is both efficient and recursive. It is outlined below:"
   ]
  },
  {
   "cell_type": "markdown",
   "metadata": {},
   "source": [
    "Write a program that implements Euclid’s algorithm and uses it to determine thegreatest common divisor of two integers entered by the user. Test your program withsome very large integers. The result will be computed quickly, even for huge numbersconsisting of hundreds of digits, because Euclid’s algorithm is extremely efficient"
   ]
  },
  {
   "cell_type": "code",
   "execution_count": 14,
   "metadata": {},
   "outputs": [
    {
     "name": "stdout",
     "output_type": "stream",
     "text": [
      "Insira o primeiro inteiro: 280\n",
      "Insira o segundo inteiro: 144\n",
      "O maior divisor comum entre esses dois inteiro é  8\n"
     ]
    }
   ],
   "source": [
    "def gcd(a, b):\n",
    "    if (b == 0):\n",
    "        return a\n",
    "    else:\n",
    "        c = a % b\n",
    "        return gcd(b, c)\n",
    "    \n",
    "n1 = int(input(\"Insira o primeiro inteiro: \"))    \n",
    "n2 = int(input(\"Insira o segundo inteiro: \"))\n",
    "print(\"O maior divisor comum entre esses dois inteiro é \", gcd(n1, n2))"
   ]
  },
  {
   "cell_type": "markdown",
   "metadata": {},
   "source": [
    "### Exercise 176: The NATO Phonetic Alphabet\n",
    "A spelling alphabet is a set of words, each of which stands for one of the 26 letters in the alphabet. While many letters are easily misheard over a low quality or noisy communication channel, the words used to represent the letters in a spelling alphabet are generally chosen so that each sounds distinct and is difficult to confuse with anyother. The NATO phonetic alphabet is a widely used spelling alphabet. Each letter and its associated word is shown in Table 8.1. Write a program that reads a word from the user and then displays its phoneti cspelling. For example, if the user enters Hello then the program should output Hotel Echo Lima Lima Oscar. Your program should use a recursive func-tion to perform this task. Do not use a loop anywhere in your solution. Any non-letter characters entered by the user should be ignored."
   ]
  },
  {
   "cell_type": "code",
   "execution_count": 32,
   "metadata": {},
   "outputs": [
    {
     "name": "stdout",
     "output_type": "stream",
     "text": [
      "Enter the string: Hello\n"
     ]
    },
    {
     "data": {
      "text/plain": [
       "'Hotel Echo Lima Lima Oscar '"
      ]
     },
     "execution_count": 32,
     "metadata": {},
     "output_type": "execute_result"
    }
   ],
   "source": [
    "import re\n",
    "dic = {'A':'Alpha', 'B':'Bravo','C':'Charlie', 'D':'Delta', 'E':'Echo', 'F':'Foxtrot', \n",
    "            'G':'Golf',\"H\":\"Hotel\", 'I':'India', 'J':'Juliet', 'K':'Kilo', 'L':'Lima', \n",
    "            'M':'Mike', 'N':'November', 'O':'Oscar', 'P':'Papa', 'Q':'Quebec',\n",
    "            'R':'Romeo', 'S':'Sierra', 'T':'Tango', 'U':'Uniform', 'V':'Victor', \n",
    "            'W':'Whiskey', 'X':'Xray', 'Y':'Yankee', 'Z':'Zulu'}\n",
    "\n",
    "def NATO(texto):\n",
    "    texto = re.sub('[ ,:\\.?!;\\']', '', texto.upper())\n",
    "    if len(texto) == 0:\n",
    "        return \"\"\n",
    "    else:\n",
    "        return dic[texto[0]] + \" \" + NATO(texto[1:len(texto)])\n",
    "        \n",
    "entry = input(\"Enter the string: \")    \n",
    "NATO(entry)"
   ]
  },
  {
   "cell_type": "markdown",
   "metadata": {},
   "source": [
    "## Exercícios Adicionais"
   ]
  },
  {
   "cell_type": "markdown",
   "metadata": {},
   "source": [
    "### Exercise 175: Recursive Decimal to Binary\n",
    "In Exercise82 you wrote a program that used a loop to convert a decimal number to its binary representation. In this exercise you will perform the same task using recursion. Write a recursive function that converts a non-negative decimal number to binary. Treat 0 and 1 as base cases which return a string containing the appropriate digit. For all other positive integers, n, you should compute the next digit using the remainder operator and then make a recursive call to compute the digits of n//2. Finally, you should concatenate the result of the recursive call (which will be a string) and thenext digit (which you will need to convert to a string) and return this string as the result of the function. Write a main program that uses your recursive function to convert a non-negative integer entered by the user from decimal to binary. Your program should display anappropriate error message if the user enters a negative value."
   ]
  },
  {
   "cell_type": "code",
   "execution_count": 46,
   "metadata": {},
   "outputs": [
    {
     "name": "stdout",
     "output_type": "stream",
     "text": [
      "Insira o inteiro não-negativo: 29\n",
      "O número binário equivalente é  11101\n"
     ]
    }
   ],
   "source": [
    "def binary(number):\n",
    "    if number < 0:\n",
    "        return 999\n",
    "    else:\n",
    "        \n",
    "        if number == 0:\n",
    "            return '0'\n",
    "        elif number == 1:\n",
    "            return '1'\n",
    "        else:\n",
    "            remainder = number % 2\n",
    "            return str(remainder) + binary(number // 2)\n",
    "    \n",
    "def invert_string(string):\n",
    "    if string == 999:\n",
    "        print(\"Insira um inteiro não negativo!\")\n",
    "    else:\n",
    "        return string[::-1]\n",
    "        \n",
    "def main():\n",
    "    entry = int(input(\"Insira o inteiro não-negativo: \"))\n",
    "    print(\"O número binário equivalente é \", invert_string(binary(entry)))\n",
    "\n",
    "if __name__ == \"__main__\":\n",
    "    main()"
   ]
  }
 ],
 "metadata": {
  "kernelspec": {
   "display_name": "Python 3",
   "language": "python",
   "name": "python3"
  },
  "language_info": {
   "codemirror_mode": {
    "name": "ipython",
    "version": 3
   },
   "file_extension": ".py",
   "mimetype": "text/x-python",
   "name": "python",
   "nbconvert_exporter": "python",
   "pygments_lexer": "ipython3",
   "version": "3.8.3"
  }
 },
 "nbformat": 4,
 "nbformat_minor": 4
}
